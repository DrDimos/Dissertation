{
  "nbformat": 4,
  "nbformat_minor": 0,
  "metadata": {
    "colab": {
      "provenance": [],
      "collapsed_sections": [
        "lmswR-NG-Esl",
        "P5WltQAXTJa9"
      ],
      "mount_file_id": "1WEPxykgTYVNz8VEHKgMrWGUoFwA6eJJX",
      "authorship_tag": "ABX9TyPN+SLcKujHvgaQO9CZV1fM",
      "include_colab_link": true
    },
    "kernelspec": {
      "name": "python3",
      "display_name": "Python 3"
    },
    "language_info": {
      "name": "python"
    },
    "gpuClass": "standard",
    "accelerator": "GPU"
  },
  "cells": [
    {
      "cell_type": "markdown",
      "metadata": {
        "id": "view-in-github",
        "colab_type": "text"
      },
      "source": [
        "<a href=\"https://colab.research.google.com/github/DrDimos/Dissertation/blob/main/Best_Network.ipynb\" target=\"_parent\"><img src=\"https://colab.research.google.com/assets/colab-badge.svg\" alt=\"Open In Colab\"/></a>"
      ]
    },
    {
      "cell_type": "markdown",
      "source": [
        "# Library Imports\n",
        "\n",
        "1.   NumPy\n",
        "2.   Tensorflow\n",
        "1.   Matplotlib\n",
        "2.   Time"
      ],
      "metadata": {
        "id": "lmswR-NG-Esl"
      }
    },
    {
      "cell_type": "markdown",
      "source": [
        "## *NumPy Library Imports*"
      ],
      "metadata": {
        "id": "xf7ygBEkSEv0"
      }
    },
    {
      "cell_type": "code",
      "source": [
        "import numpy as np\n",
        "from numpy import genfromtxt\n",
        "from numpy import argmin, argmax"
      ],
      "metadata": {
        "id": "-ygBkzoE9g7l"
      },
      "execution_count": null,
      "outputs": []
    },
    {
      "cell_type": "markdown",
      "source": [
        "## *TensorFlow Library Imports*"
      ],
      "metadata": {
        "id": "g7sH0pV-SM_0"
      }
    },
    {
      "cell_type": "code",
      "source": [
        "import tensorflow as tf\n",
        "from tensorflow import keras,metrics, math\n",
        "from tensorflow.keras.models import Sequential\n",
        "from tensorflow.keras.layers import Dense, Flatten, Dropout, BatchNormalization, Input, LSTM, ConvLSTM1D, Conv1D, MaxPooling1D\n",
        "from tensorflow.keras.utils import to_categorical\n",
        "from tensorflow.keras.metrics import Accuracy, CategoricalAccuracy, Precision, PrecisionAtRecall, Recall, RecallAtPrecision, AUC, SensitivityAtSpecificity, SpecificityAtSensitivity\n",
        "from tensorflow.keras.losses import MeanSquaredError\n",
        "from tensorflow.keras.callbacks import EarlyStopping"
      ],
      "metadata": {
        "id": "hEQ8GsTW-T8h"
      },
      "execution_count": null,
      "outputs": []
    },
    {
      "cell_type": "markdown",
      "source": [
        "## *Sklearn Library Imports*"
      ],
      "metadata": {
        "id": "HJxN8J9yFmAk"
      }
    },
    {
      "cell_type": "code",
      "source": [
        "import sklearn\n",
        "from sklearn.preprocessing import label_binarize\n",
        "from sklearn.metrics import auc, roc_auc_score, roc_curve\n",
        "from sklearn.metrics import confusion_matrix, ConfusionMatrixDisplay"
      ],
      "metadata": {
        "id": "G7-ynw_uFkcQ"
      },
      "execution_count": null,
      "outputs": []
    },
    {
      "cell_type": "markdown",
      "source": [
        "## *Matplotlib Library Imports*"
      ],
      "metadata": {
        "id": "QCzWrFkjSO-9"
      }
    },
    {
      "cell_type": "code",
      "source": [
        "import matplotlib.pyplot as plt"
      ],
      "metadata": {
        "id": "VY7kWy80_BhU"
      },
      "execution_count": null,
      "outputs": []
    },
    {
      "cell_type": "markdown",
      "source": [
        "## Time Libray Imports"
      ],
      "metadata": {
        "id": "X3XR7UHbGoUZ"
      }
    },
    {
      "cell_type": "code",
      "source": [
        "import time"
      ],
      "metadata": {
        "id": "m9tWYI38Gsz2"
      },
      "execution_count": null,
      "outputs": []
    },
    {
      "cell_type": "markdown",
      "source": [
        "## Google Colab File Imports\n"
      ],
      "metadata": {
        "id": "-OacGHznO-kP"
      }
    },
    {
      "cell_type": "code",
      "source": [
        "from google.colab import files\n",
        "import os"
      ],
      "metadata": {
        "id": "qBcEaS9MO-Y7"
      },
      "execution_count": null,
      "outputs": []
    },
    {
      "cell_type": "code",
      "source": [
        "from google.colab import drive\n",
        "drive.mount('/content/drive/')"
      ],
      "metadata": {
        "colab": {
          "base_uri": "https://localhost:8080/"
        },
        "id": "sViCQr6hLMZj",
        "outputId": "efc9cf6e-2479-4723-f29e-e2eb7a0bec03"
      },
      "execution_count": null,
      "outputs": [
        {
          "output_type": "stream",
          "name": "stdout",
          "text": [
            "Drive already mounted at /content/drive/; to attempt to forcibly remount, call drive.mount(\"/content/drive/\", force_remount=True).\n"
          ]
        }
      ]
    },
    {
      "cell_type": "markdown",
      "source": [
        "# Prediction Set"
      ],
      "metadata": {
        "id": "AvMHaNnJz5zm"
      }
    },
    {
      "cell_type": "code",
      "source": [
        "def Data_Sampling(Signal_Coefficients, Max_Length):\n",
        "    Sampled = []\n",
        "    for signal in Signal_Coefficients:\n",
        "        if (len(signal) < Max_Length):\n",
        "            Sample_Padding = Max_Length-len(signal)%Max_Length\n",
        "            Sampled_Temp = np.pad(signal, (0,Sample_Padding), 'constant')\n",
        "        Sampled.append(Sampled_Temp)\n",
        "    Sampled = np.array(Sampled, dtype=np.float16)\n",
        "    return Sampled"
      ],
      "metadata": {
        "id": "LrYSxyj3Y9UM"
      },
      "execution_count": null,
      "outputs": []
    },
    {
      "cell_type": "code",
      "source": [
        "Uknown_Signals_path = '/content/drive/MyDrive/Independent_Signals/Window_List_0.csv'\n",
        "Unkown_Signals = []\n",
        "\n",
        "Preditction_Files_loading_time_start = time.time()\n",
        "# for filename in os.listdir(Uknown_Signals_path):\n",
        "#   file = os.path.join(Uknown_Signals_path, filename)\n",
        "temp_np_file = np.genfromtxt(Uknown_Signals_path, delimiter=\",\")\n",
        "Max_Length_Window = len(max(temp_np_file, key=len))\n",
        "Max_Sampling_Length_Window = Max_Length_Window + (10-(Max_Length_Window%10))\n",
        "temp_np_file_sampled = Data_Sampling(temp_np_file, Max_Sampling_Length_Window)\n",
        "temp_np_file_sampled = temp_np_file_sampled.reshape(temp_np_file_sampled.shape[0],temp_np_file_sampled.shape[1],1)\n",
        "Unkown_Signals.append(temp_np_file_sampled)\n",
        "Preditction_Files_loading_time_end = time.time()\n",
        "Preditction_Files_loading_execution_time = Preditction_Files_loading_time_end-Preditction_Files_loading_time_start\n",
        "\n",
        "print(\"\\n \\t\\t\\t Prediction Loading Signals Time in seconds: \\t\\t\", Preditction_Files_loading_execution_time)"
      ],
      "metadata": {
        "id": "GCN09Jjuz45V",
        "colab": {
          "base_uri": "https://localhost:8080/"
        },
        "outputId": "42a394b4-7cf4-4238-c6b2-52d2e5713cd6"
      },
      "execution_count": null,
      "outputs": [
        {
          "output_type": "stream",
          "name": "stdout",
          "text": [
            "\n",
            " \t\t\t Prediction Loading Signals Time in seconds: \t\t 29.034316539764404\n"
          ]
        }
      ]
    },
    {
      "cell_type": "markdown",
      "source": [
        "# Import Data from the respective test and train \"CSV\" files."
      ],
      "metadata": {
        "id": "zMNViZEA800D"
      }
    },
    {
      "cell_type": "code",
      "execution_count": null,
      "metadata": {
        "id": "J-OrRXRv8vwt",
        "colab": {
          "base_uri": "https://localhost:8080/"
        },
        "outputId": "0e39c5ec-1076-41da-ac03-cc6d22c11635"
      },
      "outputs": [
        {
          "output_type": "stream",
          "name": "stdout",
          "text": [
            "\n",
            " \t\t\t Train_Dataset - Shape: \t\t\t\t (3416, 2511)\n",
            " \t\t\t Test_Dataset - Shape: \t\t\t\t\t (1464, 2511)\n",
            "\n",
            " \t\t\t X_Train_Values - Shape: \t\t\t\t (3416, 2510)\n",
            "\t\t\t Y_Train_Labels - Shape: \t\t\t\t (3416,)\n",
            "\t\t\t Y_Train_Labels_Categorical - Shape: \t\t\t (3416, 4)\n",
            "\n",
            " \t\t\t X_Validation_Values - Shape: \t\t\t\t (732, 2510)\n",
            "\t\t\t Y_Validation_Labels - Shape: \t\t\t\t (732,)\n",
            "\t\t\t Y_Validation_Labels_Categorical - Shape: \t\t (732, 4)\n",
            "\n",
            " \t\t\t X_Test_Values - Shape: \t\t\t\t (732, 2510)\n",
            "\t\t\t Y_Test_Labels - Shape: \t\t\t\t (732,)\n",
            "\t\t\t Y_Test_Labels_Categorical - Shape: \t\t\t (732, 4)\n",
            "\n",
            " \t\t\t Loading Time in seconds: \t\t\t\t 15.590593099594116\n"
          ]
        }
      ],
      "source": [
        "loading_time_start = time.time()\n",
        "\n",
        "Train_fname = '/content/drive/My Drive/Train_Test_Data/DF04/Sel_Sliced/NN_Train_Set_70_30_Selected_FilterOrder_4_Sliced.csv'\n",
        "Test_fname = '/content/drive/My Drive/Train_Test_Data/DF04/Sel_Sliced/NN_Test_Set_70_30_Selected_FilterOrder_4_Sliced.csv'\n",
        "\n",
        "Train_Dataset = np.genfromtxt(Train_fname, delimiter=\",\", dtype=np.float16)\n",
        "Test_Dataset = np.genfromtxt(Test_fname, delimiter=\",\", dtype=np.float16)\n",
        "X_Train_Values = Train_Dataset[:,:-1]\n",
        "Y_Train_Labels = Train_Dataset[:,-1]\n",
        "Y_Train_Labels_Categorical = to_categorical(Train_Dataset[:,-1])\n",
        "Test_Validation_Split = int(len(Test_Dataset)/2)\n",
        "X_Validation_Values = Test_Dataset[:Test_Validation_Split,:-1]\n",
        "Y_Validation_Labels = Test_Dataset[:Test_Validation_Split,-1]\n",
        "Y_Validation_Labels_Categorical = to_categorical(Y_Validation_Labels)\n",
        "X_Test_Values = Test_Dataset[Test_Validation_Split:,:-1]\n",
        "Y_Test_Labels = Test_Dataset[Test_Validation_Split:,-1]\n",
        "Y_Test_Labels_Categorical = to_categorical(Y_Test_Labels)\n",
        "loading_time_end = time.time()\n",
        "loading_execution_time = loading_time_end-loading_time_start\n",
        "\n",
        "print(\"\\n \\t\\t\\t Train_Dataset - Shape: \\t\\t\\t\\t\",Train_Dataset.shape)\n",
        "print(\" \\t\\t\\t Test_Dataset - Shape: \\t\\t\\t\\t\\t\",Test_Dataset.shape)\n",
        "print(\"\\n \\t\\t\\t X_Train_Values - Shape: \\t\\t\\t\\t\",X_Train_Values.shape)\n",
        "print(\"\\t\\t\\t Y_Train_Labels - Shape: \\t\\t\\t\\t\",Y_Train_Labels.shape)\n",
        "print(\"\\t\\t\\t Y_Train_Labels_Categorical - Shape: \\t\\t\\t\",Y_Train_Labels_Categorical.shape)\n",
        "print(\"\\n \\t\\t\\t X_Validation_Values - Shape: \\t\\t\\t\\t\",X_Validation_Values.shape)\n",
        "print(\"\\t\\t\\t Y_Validation_Labels - Shape: \\t\\t\\t\\t\",Y_Validation_Labels.shape)\n",
        "print(\"\\t\\t\\t Y_Validation_Labels_Categorical - Shape: \\t\\t\",Y_Validation_Labels_Categorical.shape)\n",
        "print(\"\\n \\t\\t\\t X_Test_Values - Shape: \\t\\t\\t\\t\",X_Test_Values.shape)\n",
        "print(\"\\t\\t\\t Y_Test_Labels - Shape: \\t\\t\\t\\t\",Y_Test_Labels.shape)\n",
        "print(\"\\t\\t\\t Y_Test_Labels_Categorical - Shape: \\t\\t\\t\",Y_Test_Labels_Categorical.shape)\n",
        "print(\"\\n \\t\\t\\t Loading Time in seconds: \\t\\t\\t\\t\", loading_execution_time)"
      ]
    },
    {
      "cell_type": "markdown",
      "source": [
        "# Data Normalization for CNN, LSTM and ConvLSTM Models"
      ],
      "metadata": {
        "id": "0fPtefxKqof2"
      }
    },
    {
      "cell_type": "code",
      "source": [
        "n_traces_train = X_Train_Values.shape[0]\n",
        "print(\"\\n \\t\\t\\t Number of Train Traces: \\t\\t\\t\\t\", n_traces_train)\n",
        "n_features_train = X_Train_Values.shape[1]\n",
        "print(\"\\t\\t\\t Number of Train Features: \\t\\t\\t\\t\", n_features_train)\n",
        "n_output_train = len(np.unique(Y_Train_Labels))\n",
        "print(\"\\t\\t\\t Number of Output Train Labels: \\t\\t\\t\", n_output_train)\n",
        "n_output_train_categorical = len(np.unique(Y_Train_Labels_Categorical))\n",
        "print(\"\\t\\t\\t Number of Output Categorical Train Labels: \\t\\t\", n_output_train_categorical)\n",
        "\n",
        "n_trace_val = X_Validation_Values.shape[0]\n",
        "print(\"\\n \\t\\t\\t Number of Validation Traces: \\t\\t\\t\\t\", n_trace_val)\n",
        "n_features_val = X_Validation_Values.shape[1]\n",
        "print(\"\\t\\t\\t Number of Validation Features: \\t\\t\\t\", n_features_val)\n",
        "n_output_val = len(np.unique(Y_Validation_Labels))\n",
        "print(\"\\t\\t\\t Number of Output Validation Labels: \\t\\t\\t\", n_output_val)\n",
        "n_output_val_categorical = len(np.unique(Y_Validation_Labels_Categorical))\n",
        "print(\"\\t\\t\\t Number of Output Categorical Validation Labels: \\t\", n_output_val_categorical)\n",
        "\n",
        "n_trace_test = X_Test_Values.shape[0]\n",
        "print(\"\\n \\t\\t\\t Number of Test Traces: \\t\\t\\t\\t\", n_trace_test)\n",
        "n_features_test = X_Test_Values.shape[1]\n",
        "print(\"\\t\\t\\t Number of Test Features: \\t\\t\\t\\t\", n_features_test)\n",
        "n_output_test = len(np.unique(Y_Test_Labels))\n",
        "print(\"\\t\\t\\t Number of Output Test Labels: \\t\\t\\t\\t\", n_output_test)\n",
        "n_output_test_categorical = len(np.unique(Y_Test_Labels_Categorical))\n",
        "print(\"\\t\\t\\t Number of Output Categorical Test Labels: \\t\\t\", n_output_test_categorical)\n",
        "\n",
        "X_Train = X_Train_Values.reshape(n_traces_train,n_features_train,1)\n",
        "print(\"\\n \\t\\t\\t X_Train - shape: \\t\\t\\t\\t\\t\", X_Train.shape)\n",
        "X_Validate = X_Validation_Values.reshape(n_trace_val,n_features_val,1)\n",
        "print(\"\\n \\t\\t\\t X_Validate - shape: \\t\\t\\t\\t\\t\", X_Validate.shape)\n",
        "X_Test = X_Test_Values.reshape(n_trace_test,n_features_test,1)\n",
        "print(\"\\n \\t\\t\\t X_Test - shape: \\t\\t\\t\\t\\t\", X_Test.shape)"
      ],
      "metadata": {
        "id": "WBaoZ41SqoKL",
        "colab": {
          "base_uri": "https://localhost:8080/"
        },
        "outputId": "68af8204-200d-4a72-d035-597907daec7a"
      },
      "execution_count": null,
      "outputs": [
        {
          "output_type": "stream",
          "name": "stdout",
          "text": [
            "\n",
            " \t\t\t Number of Train Traces: \t\t\t\t 3416\n",
            "\t\t\t Number of Train Features: \t\t\t\t 2510\n",
            "\t\t\t Number of Output Train Labels: \t\t\t 4\n",
            "\t\t\t Number of Output Categorical Train Labels: \t\t 2\n",
            "\n",
            " \t\t\t Number of Validation Traces: \t\t\t\t 732\n",
            "\t\t\t Number of Validation Features: \t\t\t 2510\n",
            "\t\t\t Number of Output Validation Labels: \t\t\t 4\n",
            "\t\t\t Number of Output Categorical Validation Labels: \t 2\n",
            "\n",
            " \t\t\t Number of Test Traces: \t\t\t\t 732\n",
            "\t\t\t Number of Test Features: \t\t\t\t 2510\n",
            "\t\t\t Number of Output Test Labels: \t\t\t\t 4\n",
            "\t\t\t Number of Output Categorical Test Labels: \t\t 2\n",
            "\n",
            " \t\t\t X_Train - shape: \t\t\t\t\t (3416, 2510, 1)\n",
            "\n",
            " \t\t\t X_Validate - shape: \t\t\t\t\t (732, 2510, 1)\n",
            "\n",
            " \t\t\t X_Test - shape: \t\t\t\t\t (732, 2510, 1)\n"
          ]
        }
      ]
    },
    {
      "cell_type": "code",
      "source": [
        "Target_Names = ['Noise', 'Quake', 'Rockfall', 'Seism']\n",
        "Learning_Rate = [1e-3, 1e-4, 1e-5]\n",
        "Epochs = [10, 15, 25]\n",
        "Batch_Size = [100, 128, 150]\n",
        "\n",
        "Early_Stop = EarlyStopping(monitor='accuracy',mode='max',verbose=1,patience=5)\n",
        "\n",
        "CNN_Scores = []\n",
        "CNN_Score_Update = []\n",
        "Best_Scores = []\n",
        "Execution_Time = []\n",
        "Y_Pred = []\n",
        "CNN_Class_Y_Pred = []\n",
        "\n",
        "LSTM_Scores = []\n",
        "LSTM_Score_Update = []\n",
        "LSTM_Best_Scores = []\n",
        "LSTM_Y_Pred = []\n",
        "LSTM_Class_Y_Pred = []\n",
        "LSTM_Execution_Time = []\n",
        "\n",
        "\n",
        "Best_Score_Update = []"
      ],
      "metadata": {
        "id": "_98JVH69HYic"
      },
      "execution_count": null,
      "outputs": []
    },
    {
      "cell_type": "markdown",
      "source": [
        "# *Convolutional Neural Network (CNN)*"
      ],
      "metadata": {
        "id": "bC9_edoHJGFd"
      }
    },
    {
      "cell_type": "markdown",
      "source": [
        "## Model Generator"
      ],
      "metadata": {
        "id": "P5WltQAXTJa9"
      }
    },
    {
      "cell_type": "code",
      "source": [
        "def CNN_Generate_Acc_Loss_Plot(History, rate, epoch, batch):\n",
        "  plt.subplot(211)\n",
        "  plt.plot(History.history['accuracy'])\n",
        "  plt.plot(History.history['val_accuracy'])\n",
        "  plt.title('Model Accuracy')\n",
        "  plt.ylabel('Accuracy')\n",
        "  plt.xlabel('Eopch')\n",
        "  plt.legend(['Training', 'Validation'], loc='best')\n",
        "        \n",
        "  plt.subplot(212)\n",
        "  plt.plot(History.history['loss'])\n",
        "  plt.plot(History.history['val_loss'])\n",
        "  plt.title('Model Loss')\n",
        "  plt.ylabel('Loss')\n",
        "  plt.xlabel('Epoch')\n",
        "  plt.legend(['Training', 'Validation'], loc='best')\n",
        "        \n",
        "  plt.tight_layout()\n",
        "  plt.gcf()\n",
        "  plt.savefig('/content/drive/MyDrive/dissertation_results/CNN_lr_'+str(rate)+'e_'+str(epoch)+'b_'+str(batch)+'.png', bbox_inches='tight')\n",
        "  plt.show()\n",
        "  "
      ],
      "metadata": {
        "id": "kYzrRYpQ7v9t"
      },
      "execution_count": null,
      "outputs": []
    },
    {
      "cell_type": "code",
      "source": [
        "def Model_Generator(X_Train):\n",
        "  CNN_Model = Sequential()\n",
        "  CNN_Model.add(Conv1D(filters=16, kernel_size=3,  activation='relu', padding='same'))\n",
        "  CNN_Model.add(Conv1D(filters=16, kernel_size=3,  activation='relu', padding='same'))\n",
        "  CNN_Model.add(MaxPooling1D(pool_size=2, padding='same'))\n",
        "  CNN_Model.add(Conv1D(filters=32, kernel_size=3,  activation='relu', padding='same'))\n",
        "  CNN_Model.add(Conv1D(filters=32, kernel_size=3,  activation='relu', padding='same'))\n",
        "  CNN_Model.add(MaxPooling1D(pool_size=2, padding='same'))\n",
        "  CNN_Model.add(Conv1D(filters=64, kernel_size=3,  activation='relu', padding='same'))\n",
        "  CNN_Model.add(MaxPooling1D(pool_size=2, padding='same'))\n",
        "  CNN_Model.add(Flatten())\n",
        "  CNN_Model.add(Dense(units=16, activation='relu'))\n",
        "  CNN_Model.add(BatchNormalization())\n",
        "  CNN_Model.add(Dense(units=8, activation='relu'))\n",
        "  CNN_Model.add(BatchNormalization())\n",
        "  CNN_Model.add(Dense(4, activation='softmax'))\n",
        "  \n",
        "  CNN_Model.build(X_Train.shape)\n",
        "  CNN_Model.summary()\n",
        "  return CNN_Model\n"
      ],
      "metadata": {
        "id": "N5DbfAiC9U-m"
      },
      "execution_count": null,
      "outputs": []
    },
    {
      "cell_type": "markdown",
      "source": [
        "## Model Training"
      ],
      "metadata": {
        "id": "80RyZXd6FmD6"
      }
    },
    {
      "cell_type": "code",
      "source": [
        "training_time_start = time.time()\n",
        "CNN_Model = Model_Generator(X_Train)\n",
        "CNN_Model.compile(optimizer= tf.keras.optimizers.Adam(learning_rate=1e-3),\n",
        "                  loss=tf.keras.losses.MeanSquaredError(),\n",
        "                  metrics=['accuracy', tf.keras.metrics.AUC(), tf.keras.metrics.Precision(), tf.keras.metrics.Recall()])\n",
        "History_Model = CNN_Model.fit(x=X_Train, y=Y_Train_Labels_Categorical,\n",
        "                              epochs=15, batch_size=100,\n",
        "                              validation_data=(X_Validate, Y_Validation_Labels_Categorical))\n",
        "CNN_Scores = CNN_Model.evaluate(X_Validate, Y_Validation_Labels_Categorical, batch_size=100)\n",
        "Best_Scores = max(History_Model.history.get('accuracy'))\n",
        "Y_Pred = CNN_Model.predict(X_Test)\n",
        "for uknown in Unkown_Signals:\n",
        "  CNN_Class_Prediciton = []\n",
        "  Prediction = CNN_Model.predict(uknown)\n",
        "  CNN_Class_Prediciton.append(np.argmax(Prediction,axis=1))\n",
        "  CNN_Class_Y_Pred.append(CNN_Class_Prediciton)\n",
        "training_time_end = time.time()\n",
        "Execution_Time = training_time_end-training_time_start   \n",
        "CNN_Generate_Acc_Loss_Plot(History_Model, 1e-3, 15, 100)"
      ],
      "metadata": {
        "id": "yer5lnLUFk-i",
        "colab": {
          "base_uri": "https://localhost:8080/",
          "height": 1000
        },
        "outputId": "21dd7396-f650-4505-fac6-300544e73ad2"
      },
      "execution_count": null,
      "outputs": [
        {
          "output_type": "stream",
          "name": "stdout",
          "text": [
            "Model: \"sequential_2\"\n",
            "_________________________________________________________________\n",
            " Layer (type)                Output Shape              Param #   \n",
            "=================================================================\n",
            " conv1d_5 (Conv1D)           (3416, 2510, 16)          64        \n",
            "                                                                 \n",
            " conv1d_6 (Conv1D)           (3416, 2510, 16)          784       \n",
            "                                                                 \n",
            " max_pooling1d_3 (MaxPooling  (3416, 1255, 16)         0         \n",
            " 1D)                                                             \n",
            "                                                                 \n",
            " conv1d_7 (Conv1D)           (3416, 1255, 32)          1568      \n",
            "                                                                 \n",
            " conv1d_8 (Conv1D)           (3416, 1255, 32)          3104      \n",
            "                                                                 \n",
            " max_pooling1d_4 (MaxPooling  (3416, 628, 32)          0         \n",
            " 1D)                                                             \n",
            "                                                                 \n",
            " conv1d_9 (Conv1D)           (3416, 628, 64)           6208      \n",
            "                                                                 \n",
            " max_pooling1d_5 (MaxPooling  (3416, 314, 64)          0         \n",
            " 1D)                                                             \n",
            "                                                                 \n",
            " flatten_2 (Flatten)         (3416, 20096)             0         \n",
            "                                                                 \n",
            " dense_4 (Dense)             (3416, 16)                321552    \n",
            "                                                                 \n",
            " batch_normalization_3 (Batc  (3416, 16)               64        \n",
            " hNormalization)                                                 \n",
            "                                                                 \n",
            " dense_5 (Dense)             (3416, 8)                 136       \n",
            "                                                                 \n",
            " batch_normalization_4 (Batc  (3416, 8)                32        \n",
            " hNormalization)                                                 \n",
            "                                                                 \n",
            " dense_6 (Dense)             (3416, 4)                 36        \n",
            "                                                                 \n",
            "=================================================================\n",
            "Total params: 333,548\n",
            "Trainable params: 333,500\n",
            "Non-trainable params: 48\n",
            "_________________________________________________________________\n",
            "Epoch 1/15\n",
            "35/35 [==============================] - 3s 30ms/step - loss: 0.1903 - accuracy: 0.3662 - auc_2: 0.5842 - precision_2: 0.4087 - recall_2: 0.0550 - val_loss: 0.2087 - val_accuracy: 0.2473 - val_auc_2: 0.5117 - val_precision_2: 0.3934 - val_recall_2: 0.0656\n",
            "Epoch 2/15\n",
            "35/35 [==============================] - 1s 16ms/step - loss: 0.1616 - accuracy: 0.4900 - auc_2: 0.7252 - precision_2: 0.7429 - recall_2: 0.1768 - val_loss: 0.2294 - val_accuracy: 0.2199 - val_auc_2: 0.4540 - val_precision_2: 0.4079 - val_recall_2: 0.0423\n",
            "Epoch 3/15\n",
            "35/35 [==============================] - 1s 16ms/step - loss: 0.1183 - accuracy: 0.6657 - auc_2: 0.8755 - precision_2: 0.8078 - recall_2: 0.4640 - val_loss: 0.1574 - val_accuracy: 0.5656 - val_auc_2: 0.8025 - val_precision_2: 0.8953 - val_recall_2: 0.1052\n",
            "Epoch 4/15\n",
            "35/35 [==============================] - 1s 16ms/step - loss: 0.0692 - accuracy: 0.8528 - auc_2: 0.9671 - precision_2: 0.9401 - recall_2: 0.7122 - val_loss: 0.1551 - val_accuracy: 0.5492 - val_auc_2: 0.7995 - val_precision_2: 1.0000 - val_recall_2: 0.0601\n",
            "Epoch 5/15\n",
            "35/35 [==============================] - 1s 16ms/step - loss: 0.0319 - accuracy: 0.9555 - auc_2: 0.9954 - precision_2: 0.9853 - recall_2: 0.9031 - val_loss: 0.1586 - val_accuracy: 0.5410 - val_auc_2: 0.7907 - val_precision_2: 1.0000 - val_recall_2: 0.0574\n",
            "Epoch 6/15\n",
            "35/35 [==============================] - 1s 16ms/step - loss: 0.0185 - accuracy: 0.9804 - auc_2: 0.9989 - precision_2: 0.9951 - recall_2: 0.9546 - val_loss: 0.1402 - val_accuracy: 0.5260 - val_auc_2: 0.8429 - val_precision_2: 0.6425 - val_recall_2: 0.4003\n",
            "Epoch 7/15\n",
            "35/35 [==============================] - 1s 16ms/step - loss: 0.0140 - accuracy: 0.9865 - auc_2: 0.9992 - precision_2: 0.9949 - recall_2: 0.9672 - val_loss: 0.1213 - val_accuracy: 0.6680 - val_auc_2: 0.8686 - val_precision_2: 0.8877 - val_recall_2: 0.5833\n",
            "Epoch 8/15\n",
            "35/35 [==============================] - 1s 16ms/step - loss: 0.0088 - accuracy: 0.9906 - auc_2: 0.9996 - precision_2: 0.9950 - recall_2: 0.9810 - val_loss: 0.1229 - val_accuracy: 0.6639 - val_auc_2: 0.8570 - val_precision_2: 0.7744 - val_recall_2: 0.6189\n",
            "Epoch 9/15\n",
            "35/35 [==============================] - 1s 16ms/step - loss: 0.0061 - accuracy: 0.9953 - auc_2: 0.9998 - precision_2: 0.9968 - recall_2: 0.9906 - val_loss: 0.1076 - val_accuracy: 0.6735 - val_auc_2: 0.9055 - val_precision_2: 0.7857 - val_recall_2: 0.6311\n",
            "Epoch 10/15\n",
            "35/35 [==============================] - 1s 16ms/step - loss: 0.0048 - accuracy: 0.9962 - auc_2: 0.9999 - precision_2: 0.9974 - recall_2: 0.9933 - val_loss: 0.1041 - val_accuracy: 0.6749 - val_auc_2: 0.9030 - val_precision_2: 0.7578 - val_recall_2: 0.6667\n",
            "Epoch 11/15\n",
            "35/35 [==============================] - 1s 16ms/step - loss: 0.0040 - accuracy: 0.9974 - auc_2: 1.0000 - precision_2: 0.9991 - recall_2: 0.9953 - val_loss: 0.0891 - val_accuracy: 0.7008 - val_auc_2: 0.9395 - val_precision_2: 0.7717 - val_recall_2: 0.6790\n",
            "Epoch 12/15\n",
            "35/35 [==============================] - 1s 16ms/step - loss: 0.0028 - accuracy: 0.9985 - auc_2: 1.0000 - precision_2: 0.9991 - recall_2: 0.9980 - val_loss: 0.0577 - val_accuracy: 0.8429 - val_auc_2: 0.9781 - val_precision_2: 0.8904 - val_recall_2: 0.6995\n",
            "Epoch 13/15\n",
            "35/35 [==============================] - 1s 16ms/step - loss: 0.0019 - accuracy: 0.9988 - auc_2: 1.0000 - precision_2: 0.9994 - recall_2: 0.9988 - val_loss: 0.0502 - val_accuracy: 0.8415 - val_auc_2: 0.9836 - val_precision_2: 0.8590 - val_recall_2: 0.8156\n",
            "Epoch 14/15\n",
            "35/35 [==============================] - 1s 16ms/step - loss: 0.0019 - accuracy: 0.9988 - auc_2: 1.0000 - precision_2: 0.9988 - recall_2: 0.9985 - val_loss: 0.0389 - val_accuracy: 0.8648 - val_auc_2: 0.9902 - val_precision_2: 0.8900 - val_recall_2: 0.8402\n",
            "Epoch 15/15\n",
            "35/35 [==============================] - 1s 16ms/step - loss: 0.0014 - accuracy: 0.9988 - auc_2: 1.0000 - precision_2: 0.9994 - recall_2: 0.9988 - val_loss: 0.0252 - val_accuracy: 0.9631 - val_auc_2: 0.9980 - val_precision_2: 0.9838 - val_recall_2: 0.9112\n",
            "8/8 [==============================] - 0s 8ms/step - loss: 0.0252 - accuracy: 0.9631 - auc_2: 0.9980 - precision_2: 0.9838 - recall_2: 0.9112\n"
          ]
        },
        {
          "output_type": "display_data",
          "data": {
            "text/plain": [
              "<Figure size 432x288 with 2 Axes>"
            ],
            "image/png": "[encoded data removed]"
          },
          "metadata": {
            "needs_background": "light"
          }
        }
      ]
    },
    {
      "cell_type": "markdown",
      "source": [
        "## Score Calculations"
      ],
      "metadata": {
        "id": "pYV-56e4TPPZ"
      }
    },
    {
      "cell_type": "code",
      "source": [
        "if (float(CNN_Scores[3])+float(CNN_Scores[4]) == 0):\n",
        "  CNN_F1_Score = 0\n",
        "else:\n",
        "  CNN_F1_Score = 2*((float(CNN_Scores[3])*float(CNN_Scores[4]))/(float(CNN_Scores[3])+float(CNN_Scores[4])))\n",
        "print(\"CNN Mean Square Error: \\t\\t\\t\", CNN_Scores[0])\n",
        "print(\"CNN Validation Accuracy Score: \\t\\t\", CNN_Scores[1])\n",
        "print(\"CNN Best Training Accuracy Score: \\t\", Best_Scores)\n",
        "print(\"CNN F1 Score: \\t\\t\\t\\t\", CNN_F1_Score)\n",
        "print(\"CNN Precision Score: \\t\\t\\t\", CNN_Scores[3])\n",
        "print(\"CNN Recall Score: \\t\\t\\t\", CNN_Scores[4])\n",
        "print(\"CNN AUC Score: \\t\\t\\t\\t\", CNN_Scores[2])\n",
        "print(\"Execution Time: \\t\\t\\t\", Execution_Time)  "
      ],
      "metadata": {
        "id": "obCPxegfHgE-",
        "colab": {
          "base_uri": "https://localhost:8080/"
        },
        "outputId": "f1ffa540-3b62-4aed-baac-909e460de510"
      },
      "execution_count": null,
      "outputs": [
        {
          "output_type": "stream",
          "name": "stdout",
          "text": [
            "CNN Mean Square Error: \t\t\t 0.025242729112505913\n",
            "CNN Validation Accuracy Score: \t\t 0.9631147384643555\n",
            "CNN Best Training Accuracy Score: \t 0.9988290667533875\n",
            "CNN F1 Score: \t\t\t\t 0.9460992865672527\n",
            "CNN Precision Score: \t\t\t 0.983775794506073\n",
            "CNN Recall Score: \t\t\t 0.9112021923065186\n",
            "CNN AUC Score: \t\t\t\t 0.997954249382019\n",
            "Execution Time: \t\t\t 13.981619596481323\n"
          ]
        }
      ]
    },
    {
      "cell_type": "markdown",
      "source": [
        "## ROC Curves Plot"
      ],
      "metadata": {
        "id": "gwZA-XJ1TUOw"
      }
    },
    {
      "cell_type": "code",
      "source": [
        "Y_Test_Labels_Bin = label_binarize(Y_Test_Labels, classes=[0.0, 1.0, 2.0, 3.0])\n",
        "Num_Classes = Y_Test_Labels_Bin.shape[1]\n",
        "lw_list = [4, 3, 2, 1]\n",
        "color_list = ['red','blue','yellow','green']\n",
        "\n",
        "fpr = dict()\n",
        "tpr = dict()\n",
        "thres_r = dict()\n",
        "roc_auc = dict()\n",
        "\n",
        "for i in range(Num_Classes):\n",
        "  fpr[i], tpr[i], thres_r[i] = roc_curve(Y_Test_Labels_Bin[:, i], Y_Pred[:, i])\n",
        "  plt.plot(fpr[i], tpr[i], color=color_list[i], lw=lw_list[i])\n",
        "plt.plot([0, 1], [0, 1], color='navy', lw=2, linestyle='--')\n",
        "plt.xlim([0.0, 1.0])\n",
        "plt.ylim([0.0, 1.05])\n",
        "plt.xlabel('False Positive Rate')\n",
        "plt.ylabel('True Positive Rate')\n",
        "plt.title('Receiver Operating Characteristic Curves')\n",
        "plt.legend(Target_Names)\n",
        "plt.gcf()\n",
        "plt.savefig('/content/drive/MyDrive/dissertation_results/CNN_roc_Y_Pred.png', bbox_inches='tight')\n",
        "plt.show()\n",
        "\n"
      ],
      "metadata": {
        "id": "UiKY4lqjTggn",
        "colab": {
          "base_uri": "https://localhost:8080/",
          "height": 295
        },
        "outputId": "7bc5bebf-6541-412f-844f-c6dd45a40372"
      },
      "execution_count": null,
      "outputs": [
        {
          "output_type": "display_data",
          "data": {
            "text/plain": [
              "<Figure size 432x288 with 1 Axes>"
            ],
            "image/png": "[encoded data removed]"
          },
          "metadata": {
            "needs_background": "light"
          }
        }
      ]
    },
    {
      "cell_type": "code",
      "source": [
        "for i in range(Num_Classes):\n",
        "  fpr[i], tpr[i], thres_r[i] = roc_curve(Y_Test_Labels_Bin[:, i], Y_Pred[:, i])\n",
        "  print('AUC for Class {}: {}'.format(Target_Names[i], auc(fpr[i], tpr[i])))"
      ],
      "metadata": {
        "id": "KFdubbsAwtKI",
        "colab": {
          "base_uri": "https://localhost:8080/"
        },
        "outputId": "6fd1ba3b-5df4-42cd-8086-f224b61ecaef"
      },
      "execution_count": null,
      "outputs": [
        {
          "output_type": "stream",
          "name": "stdout",
          "text": [
            "AUC for Class Noise: 1.0\n",
            "AUC for Class Quake: 1.0\n",
            "AUC for Class Rockfall: 0.9992574303376835\n",
            "AUC for Class Seism: 1.0\n"
          ]
        }
      ]
    },
    {
      "cell_type": "markdown",
      "source": [
        "# *Long Short-Term Memory Neural Network (LSTM)*"
      ],
      "metadata": {
        "id": "_qnSSZ3wkbw7"
      }
    },
    {
      "cell_type": "markdown",
      "source": [
        "## Model Generator"
      ],
      "metadata": {
        "id": "OnQaOZ8KkmS6"
      }
    },
    {
      "cell_type": "code",
      "source": [
        "def LSTM_Generate_Acc_Loss_Plot(History, rate, epoch, batch):\n",
        "  plt.subplot(211)\n",
        "  plt.plot(History.history['accuracy'])\n",
        "  plt.plot(History.history['val_accuracy'])\n",
        "  plt.title('Model Accuracy')\n",
        "  plt.ylabel('Accuracy')\n",
        "  plt.xlabel('Eopch')\n",
        "  plt.legend(['Training', 'Validation'], loc='best')\n",
        "        \n",
        "  plt.subplot(212)\n",
        "  plt.plot(History.history['loss'])\n",
        "  plt.plot(History.history['val_loss'])\n",
        "  plt.title('Model Loss')\n",
        "  plt.ylabel('Loss')\n",
        "  plt.xlabel('Epoch')\n",
        "  plt.legend(['Training', 'Validation'], loc='best')\n",
        "        \n",
        "  plt.tight_layout()\n",
        "  plt.gcf()\n",
        "  plt.savefig('/content/drive/MyDrive/dissertation_results/LSTM_lr_'+str(rate)+'e_'+str(epoch)+'b_'+str(batch)+'.png', bbox_inches='tight')\n",
        "  plt.show()"
      ],
      "metadata": {
        "id": "oGTk1MElo74G"
      },
      "execution_count": null,
      "outputs": []
    },
    {
      "cell_type": "code",
      "source": [
        "\n",
        "def LSTM_Model_Generator(X_Train):\n",
        "  LSTM_Model = Sequential()\n",
        "  LSTM_Model.add(LSTM(units=64, activation='tanh', return_sequences=True, input_shape=(X_Train.shape[1], X_Train.shape[2])))\n",
        "  LSTM_Model.add(Dropout(0.2))\n",
        "  LSTM_Model.add(Flatten())\n",
        "  LSTM_Model.add(BatchNormalization())\n",
        "  LSTM_Model.add((Dense(units=4,  activation='softmax')))\n",
        "  LSTM_Model.build(X_Train.shape)\n",
        "  LSTM_Model.summary()\n",
        "  return LSTM_Model"
      ],
      "metadata": {
        "id": "tBy3hxSBkqR6",
        "cellView": "code"
      },
      "execution_count": null,
      "outputs": []
    },
    {
      "cell_type": "markdown",
      "source": [
        "## Model Training"
      ],
      "metadata": {
        "id": "1jYlLHQ1kqpG"
      }
    },
    {
      "cell_type": "code",
      "source": [
        "training_time_start = time.time()\n",
        "LSTM_Model = LSTM_Model_Generator(X_Train)\n",
        "LSTM_Model.compile(optimizer= tf.keras.optimizers.Adam(learning_rate=1e-5),\n",
        "                   loss=tf.keras.losses.MeanSquaredError(),\n",
        "                   metrics=['accuracy', tf.keras.metrics.AUC(), tf.keras.metrics.Precision(), tf.keras.metrics.Recall()])\n",
        "LSTM_History = LSTM_Model.fit(x=X_Train, y=Y_Train_Labels_Categorical,epochs=25, batch_size=100,\n",
        "                              validation_data=(X_Validate, Y_Validation_Labels_Categorical), callbacks=[Early_Stop])\n",
        "LSTM_Scores = LSTM_Model.evaluate(X_Validate, Y_Validation_Labels_Categorical, batch_size=128)\n",
        "LSTM_Best_Scores = max(LSTM_History.history.get('accuracy'))\n",
        "LSTM_Y_Pred = LSTM_Model.predict(X_Test)\n",
        "for uknown in Unkown_Signals:\n",
        "  LSTM_Class_Prediciton = []\n",
        "  Prediction = LSTM_Model.predict(uknown)\n",
        "  LSTM_Class_Prediciton.append(np.argmax(Prediction,axis=1))\n",
        "  LSTM_Class_Y_Pred.append(LSTM_Class_Prediciton)\n",
        "training_time_end = time.time()\n",
        "LSTM_Execution_Time = training_time_end-training_time_start\n",
        "LSTM_Generate_Acc_Loss_Plot(LSTM_History, 1e-5, 25, 128)"
      ],
      "metadata": {
        "id": "o41ntOwwkr1i",
        "colab": {
          "base_uri": "https://localhost:8080/",
          "height": 1000
        },
        "outputId": "871c7f8e-bc54-40bb-eb45-d213fe3d7046"
      },
      "execution_count": null,
      "outputs": [
        {
          "output_type": "stream",
          "name": "stdout",
          "text": [
            "Model: \"sequential_3\"\n",
            "_________________________________________________________________\n",
            " Layer (type)                Output Shape              Param #   \n",
            "=================================================================\n",
            " lstm_1 (LSTM)               (None, 2510, 64)          16896     \n",
            "                                                                 \n",
            " dropout_1 (Dropout)         (None, 2510, 64)          0         \n",
            "                                                                 \n",
            " flatten_3 (Flatten)         (None, 160640)            0         \n",
            "                                                                 \n",
            " batch_normalization_5 (Batc  (None, 160640)           642560    \n",
            " hNormalization)                                                 \n",
            "                                                                 \n",
            " dense_7 (Dense)             (None, 4)                 642564    \n",
            "                                                                 \n",
            "=================================================================\n",
            "Total params: 1,302,020\n",
            "Trainable params: 980,740\n",
            "Non-trainable params: 321,280\n",
            "_________________________________________________________________\n",
            "Epoch 1/25\n",
            "35/35 [==============================] - 7s 135ms/step - loss: 0.1778 - accuracy: 0.4467 - auc_3: 0.7059 - precision_3: 0.5150 - recall_3: 0.3525 - val_loss: 0.1669 - val_accuracy: 0.4563 - val_auc_3: 0.6668 - val_precision_3: 0.8148 - val_recall_3: 0.1202\n",
            "Epoch 2/25\n",
            "35/35 [==============================] - 4s 116ms/step - loss: 0.1279 - accuracy: 0.6186 - auc_3: 0.8394 - precision_3: 0.6810 - recall_3: 0.5293 - val_loss: 0.1489 - val_accuracy: 0.5587 - val_auc_3: 0.7760 - val_precision_3: 0.8834 - val_recall_3: 0.1967\n",
            "Epoch 3/25\n",
            "35/35 [==============================] - 4s 116ms/step - loss: 0.0980 - accuracy: 0.7172 - auc_3: 0.9008 - precision_3: 0.7936 - recall_3: 0.6358 - val_loss: 0.1297 - val_accuracy: 0.6571 - val_auc_3: 0.8709 - val_precision_3: 0.9505 - val_recall_3: 0.2623\n",
            "Epoch 4/25\n",
            "35/35 [==============================] - 4s 116ms/step - loss: 0.0822 - accuracy: 0.7731 - auc_3: 0.9299 - precision_3: 0.8323 - recall_3: 0.7046 - val_loss: 0.1105 - val_accuracy: 0.7719 - val_auc_3: 0.9299 - val_precision_3: 0.9610 - val_recall_3: 0.3702\n",
            "Epoch 5/25\n",
            "35/35 [==============================] - 4s 116ms/step - loss: 0.0669 - accuracy: 0.8214 - auc_3: 0.9529 - precision_3: 0.8740 - recall_3: 0.7635 - val_loss: 0.0922 - val_accuracy: 0.8511 - val_auc_3: 0.9615 - val_precision_3: 0.9823 - val_recall_3: 0.4549\n",
            "Epoch 6/25\n",
            "35/35 [==============================] - 4s 117ms/step - loss: 0.0580 - accuracy: 0.8519 - auc_3: 0.9644 - precision_3: 0.8965 - recall_3: 0.7963 - val_loss: 0.0768 - val_accuracy: 0.8852 - val_auc_3: 0.9753 - val_precision_3: 0.9849 - val_recall_3: 0.6230\n",
            "Epoch 7/25\n",
            "35/35 [==============================] - 4s 116ms/step - loss: 0.0495 - accuracy: 0.8732 - auc_3: 0.9731 - precision_3: 0.9166 - recall_3: 0.8305 - val_loss: 0.0633 - val_accuracy: 0.9016 - val_auc_3: 0.9840 - val_precision_3: 0.9749 - val_recall_3: 0.7432\n",
            "Epoch 8/25\n",
            "35/35 [==============================] - 4s 116ms/step - loss: 0.0449 - accuracy: 0.8861 - auc_3: 0.9776 - precision_3: 0.9265 - recall_3: 0.8489 - val_loss: 0.0514 - val_accuracy: 0.9194 - val_auc_3: 0.9890 - val_precision_3: 0.9721 - val_recall_3: 0.8101\n",
            "Epoch 9/25\n",
            "35/35 [==============================] - 4s 116ms/step - loss: 0.0390 - accuracy: 0.9078 - auc_3: 0.9832 - precision_3: 0.9372 - recall_3: 0.8735 - val_loss: 0.0421 - val_accuracy: 0.9413 - val_auc_3: 0.9931 - val_precision_3: 0.9797 - val_recall_3: 0.8566\n",
            "Epoch 10/25\n",
            "35/35 [==============================] - 4s 117ms/step - loss: 0.0341 - accuracy: 0.9207 - auc_3: 0.9864 - precision_3: 0.9474 - recall_3: 0.8911 - val_loss: 0.0350 - val_accuracy: 0.9440 - val_auc_3: 0.9945 - val_precision_3: 0.9762 - val_recall_3: 0.8948\n",
            "Epoch 11/25\n",
            "35/35 [==============================] - 4s 116ms/step - loss: 0.0296 - accuracy: 0.9353 - auc_3: 0.9900 - precision_3: 0.9582 - recall_3: 0.9063 - val_loss: 0.0286 - val_accuracy: 0.9617 - val_auc_3: 0.9960 - val_precision_3: 0.9823 - val_recall_3: 0.9112\n",
            "Epoch 12/25\n",
            "35/35 [==============================] - 4s 117ms/step - loss: 0.0290 - accuracy: 0.9344 - auc_3: 0.9896 - precision_3: 0.9586 - recall_3: 0.9090 - val_loss: 0.0237 - val_accuracy: 0.9713 - val_auc_3: 0.9968 - val_precision_3: 0.9914 - val_recall_3: 0.9413\n",
            "Epoch 13/25\n",
            "35/35 [==============================] - 4s 116ms/step - loss: 0.0250 - accuracy: 0.9473 - auc_3: 0.9918 - precision_3: 0.9618 - recall_3: 0.9289 - val_loss: 0.0201 - val_accuracy: 0.9822 - val_auc_3: 0.9976 - val_precision_3: 0.9900 - val_recall_3: 0.9426\n",
            "Epoch 14/25\n",
            "35/35 [==============================] - 4s 117ms/step - loss: 0.0232 - accuracy: 0.9505 - auc_3: 0.9933 - precision_3: 0.9663 - recall_3: 0.9327 - val_loss: 0.0165 - val_accuracy: 0.9891 - val_auc_3: 0.9985 - val_precision_3: 0.9902 - val_recall_3: 0.9699\n",
            "Epoch 15/25\n",
            "35/35 [==============================] - 4s 116ms/step - loss: 0.0189 - accuracy: 0.9637 - auc_3: 0.9952 - precision_3: 0.9768 - recall_3: 0.9505 - val_loss: 0.0135 - val_accuracy: 0.9904 - val_auc_3: 0.9993 - val_precision_3: 0.9972 - val_recall_3: 0.9809\n",
            "Epoch 16/25\n",
            "35/35 [==============================] - 4s 117ms/step - loss: 0.0179 - accuracy: 0.9675 - auc_3: 0.9956 - precision_3: 0.9780 - recall_3: 0.9514 - val_loss: 0.0114 - val_accuracy: 0.9877 - val_auc_3: 0.9996 - val_precision_3: 0.9972 - val_recall_3: 0.9809\n",
            "Epoch 17/25\n",
            "35/35 [==============================] - 4s 116ms/step - loss: 0.0164 - accuracy: 0.9693 - auc_3: 0.9962 - precision_3: 0.9808 - recall_3: 0.9555 - val_loss: 0.0097 - val_accuracy: 0.9918 - val_auc_3: 0.9998 - val_precision_3: 0.9973 - val_recall_3: 0.9918\n",
            "Epoch 18/25\n",
            "35/35 [==============================] - 4s 117ms/step - loss: 0.0153 - accuracy: 0.9739 - auc_3: 0.9963 - precision_3: 0.9812 - recall_3: 0.9634 - val_loss: 0.0079 - val_accuracy: 0.9918 - val_auc_3: 0.9999 - val_precision_3: 0.9973 - val_recall_3: 0.9918\n",
            "Epoch 19/25\n",
            "35/35 [==============================] - 4s 116ms/step - loss: 0.0138 - accuracy: 0.9795 - auc_3: 0.9969 - precision_3: 0.9851 - recall_3: 0.9678 - val_loss: 0.0069 - val_accuracy: 0.9918 - val_auc_3: 1.0000 - val_precision_3: 0.9973 - val_recall_3: 0.9918\n",
            "Epoch 20/25\n",
            "35/35 [==============================] - 4s 117ms/step - loss: 0.0117 - accuracy: 0.9836 - auc_3: 0.9976 - precision_3: 0.9899 - recall_3: 0.9763 - val_loss: 0.0061 - val_accuracy: 0.9973 - val_auc_3: 1.0000 - val_precision_3: 0.9973 - val_recall_3: 0.9918\n",
            "Epoch 21/25\n",
            "35/35 [==============================] - 4s 117ms/step - loss: 0.0117 - accuracy: 0.9836 - auc_3: 0.9974 - precision_3: 0.9890 - recall_3: 0.9716 - val_loss: 0.0050 - val_accuracy: 0.9973 - val_auc_3: 1.0000 - val_precision_3: 1.0000 - val_recall_3: 0.9973\n",
            "Epoch 22/25\n",
            "35/35 [==============================] - 4s 117ms/step - loss: 0.0109 - accuracy: 0.9836 - auc_3: 0.9975 - precision_3: 0.9882 - recall_3: 0.9772 - val_loss: 0.0047 - val_accuracy: 0.9973 - val_auc_3: 1.0000 - val_precision_3: 0.9973 - val_recall_3: 0.9973\n",
            "Epoch 23/25\n",
            "35/35 [==============================] - 4s 116ms/step - loss: 0.0100 - accuracy: 0.9854 - auc_3: 0.9977 - precision_3: 0.9894 - recall_3: 0.9804 - val_loss: 0.0043 - val_accuracy: 0.9973 - val_auc_3: 1.0000 - val_precision_3: 0.9973 - val_recall_3: 0.9973\n",
            "Epoch 24/25\n",
            "35/35 [==============================] - 4s 119ms/step - loss: 0.0099 - accuracy: 0.9851 - auc_3: 0.9978 - precision_3: 0.9914 - recall_3: 0.9810 - val_loss: 0.0034 - val_accuracy: 1.0000 - val_auc_3: 1.0000 - val_precision_3: 1.0000 - val_recall_3: 1.0000\n",
            "Epoch 25/25\n",
            "35/35 [==============================] - 4s 121ms/step - loss: 0.0093 - accuracy: 0.9874 - auc_3: 0.9980 - precision_3: 0.9929 - recall_3: 0.9827 - val_loss: 0.0031 - val_accuracy: 0.9973 - val_auc_3: 1.0000 - val_precision_3: 0.9973 - val_recall_3: 0.9973\n",
            "6/6 [==============================] - 0s 54ms/step - loss: 0.0031 - accuracy: 0.9973 - auc_3: 1.0000 - precision_3: 0.9973 - recall_3: 0.9973\n"
          ]
        },
        {
          "output_type": "display_data",
          "data": {
            "text/plain": [
              "<Figure size 432x288 with 2 Axes>"
            ],
            "image/png": "[encoded data removed]"
          },
          "metadata": {
            "needs_background": "light"
          }
        }
      ]
    },
    {
      "cell_type": "markdown",
      "source": [
        "## Score Calculations"
      ],
      "metadata": {
        "id": "q1y4Gtg3ksH3"
      }
    },
    {
      "cell_type": "code",
      "source": [
        "if (float(LSTM_Scores[3])+float(LSTM_Scores[4]) == 0):\n",
        "  CNN_F1_Score = 0\n",
        "else:\n",
        "  CNN_F1_Score = 2*((float(LSTM_Scores[3])*float(LSTM_Scores[4]))/(float(LSTM_Scores[3])+float(LSTM_Scores[4])))\n",
        "print(\"CNN Mean Square Error: \\t\\t\\t\", LSTM_Scores[0])\n",
        "print(\"CNN Validation Accuracy Score: \\t\\t\", LSTM_Scores[1])\n",
        "print(\"CNN Best Training Accuracy Score: \\t\", LSTM_Best_Scores)\n",
        "print(\"CNN F1 Score: \\t\\t\\t\\t\", CNN_F1_Score)\n",
        "print(\"CNN Precision Score: \\t\\t\\t\", LSTM_Scores[3])\n",
        "print(\"CNN Recall Score: \\t\\t\\t\", LSTM_Scores[4])\n",
        "print(\"CNN AUC Score: \\t\\t\\t\\t\", LSTM_Scores[2])\n",
        "print(\"Execution Time: \\t\\t\\t\", LSTM_Execution_Time)  "
      ],
      "metadata": {
        "id": "3-OCcQKXlZ0E",
        "colab": {
          "base_uri": "https://localhost:8080/"
        },
        "outputId": "c3ad434b-b42a-47db-df7a-22c5dd08f0e4"
      },
      "execution_count": null,
      "outputs": [
        {
          "output_type": "stream",
          "name": "stdout",
          "text": [
            "CNN Mean Square Error: \t\t\t 0.0031272280029952526\n",
            "CNN Validation Accuracy Score: \t\t 0.9972677826881409\n",
            "CNN Best Training Accuracy Score: \t 0.98741215467453\n",
            "CNN F1 Score: \t\t\t\t 0.9972677826881409\n",
            "CNN Precision Score: \t\t\t 0.9972677826881409\n",
            "CNN Recall Score: \t\t\t 0.9972677826881409\n",
            "CNN AUC Score: \t\t\t\t 0.9999975562095642\n",
            "Execution Time: \t\t\t 155.820960521698\n"
          ]
        }
      ]
    },
    {
      "cell_type": "markdown",
      "source": [
        "## ROC Curves Plot"
      ],
      "metadata": {
        "id": "oFDA8SEZlFFW"
      }
    },
    {
      "cell_type": "code",
      "source": [
        "Y_Test_Labels_Bin = label_binarize(Y_Test_Labels, classes=[0.0, 1.0, 2.0, 3.0])\n",
        "Num_Classes = Y_Test_Labels_Bin.shape[1]\n",
        "\n",
        "fpr = dict()\n",
        "tpr = dict()\n",
        "thres_r = dict()\n",
        "roc_auc = dict()\n",
        "\n",
        "for i in range(Num_Classes):\n",
        "  fpr[i], tpr[i], thres_r[i] = roc_curve(Y_Test_Labels_Bin[:, i], LSTM_Y_Pred[:, i])\n",
        "  plt.plot(fpr[i], tpr[i], color=color_list[i], lw=lw_list[i])\n",
        "\n",
        "plt.plot([0, 1], [0, 1], color='navy', lw=2, linestyle='--')\n",
        "plt.xlim([0.0, 1.0])\n",
        "plt.ylim([0.0, 1.05])\n",
        "plt.xlabel('False Positive Rate')\n",
        "plt.ylabel('True Positive Rate')\n",
        "plt.title('Receiver Operating Characteristic Curves')\n",
        "plt.legend(Target_Names)\n",
        "plt.gcf()\n",
        "plt.savefig('/content/drive/MyDrive/dissertation_results/LSTM_roc_Y_Pred.png', bbox_inches='tight')\n",
        "plt.show()"
      ],
      "metadata": {
        "id": "zDU9iB1Pndfl",
        "colab": {
          "base_uri": "https://localhost:8080/",
          "height": 295
        },
        "outputId": "1231de5f-e626-48cd-810c-432cbfb0f8ec"
      },
      "execution_count": null,
      "outputs": [
        {
          "output_type": "display_data",
          "data": {
            "text/plain": [
              "<Figure size 432x288 with 1 Axes>"
            ],
            "image/png": "[encoded data removed]"
          },
          "metadata": {
            "needs_background": "light"
          }
        }
      ]
    },
    {
      "cell_type": "code",
      "source": [
        "for i in range(Num_Classes):\n",
        "  fpr[i], tpr[i], thres_r[i] = roc_curve(Y_Test_Labels_Bin[:, i], LSTM_Y_Pred[:, i])\n",
        "  print('LSTM AUC for Class {}: {}'.format(Target_Names[i], auc(fpr[i], tpr[i])))"
      ],
      "metadata": {
        "id": "CpbalVDNwGsm",
        "colab": {
          "base_uri": "https://localhost:8080/"
        },
        "outputId": "7530d75c-78e9-41db-809d-91326c5f428a"
      },
      "execution_count": null,
      "outputs": [
        {
          "output_type": "stream",
          "name": "stdout",
          "text": [
            "LSTM AUC for Class Noise: 0.9903942282058117\n",
            "LSTM AUC for Class Quake: 1.0\n",
            "LSTM AUC for Class Rockfall: 1.0\n",
            "LSTM AUC for Class Seism: 0.9928811411009922\n"
          ]
        }
      ]
    },
    {
      "cell_type": "markdown",
      "source": [
        "# Save Predictions\n"
      ],
      "metadata": {
        "id": "E-O9fnFw34Oi"
      }
    },
    {
      "cell_type": "code",
      "source": [
        "print(len(CNN_Class_Y_Pred))\n",
        "print(len(LSTM_Class_Y_Pred))\n",
        "\n",
        "CNN_Class_Y_Pred = np.array(CNN_Class_Y_Pred)\n",
        "LSTM_Class_Y_Pred = np.array(LSTM_Class_Y_Pred)\n",
        "\n",
        "print(len(CNN_Class_Y_Pred))\n",
        "print(CNN_Class_Y_Pred.shape)\n",
        "print(CNN_Class_Y_Pred)\n",
        "print(len(LSTM_Class_Y_Pred))\n",
        "print(LSTM_Class_Y_Pred.shape)\n",
        "print(LSTM_Class_Y_Pred)\n",
        "\n",
        "os.chdir('/content/drive/MyDrive/dissertation_results/')\n",
        "for i in range(len(CNN_Class_Y_Pred)):\n",
        "  Reshaped_Predictions = CNN_Class_Y_Pred[i].reshape((719,12))\n",
        "  np.savetxt('CNN_Window_Predictions_Signal'+str(i)+'.csv', Reshaped_Predictions, delimiter=',')\n",
        "\n",
        "for i in range(len(LSTM_Class_Y_Pred)):\n",
        "  Reshaped_Predictions = LSTM_Class_Y_Pred[i].reshape((719,12))\n",
        "  np.savetxt('LSTM_Window_Predictions_Signal'+str(i)+'.csv', Reshaped_Predictions, delimiter=',')"
      ],
      "metadata": {
        "colab": {
          "base_uri": "https://localhost:8080/"
        },
        "id": "VZ35kpCr529w",
        "outputId": "e5f8057a-c7d3-4cbc-dcc6-114e68665cc7"
      },
      "execution_count": null,
      "outputs": [
        {
          "output_type": "stream",
          "name": "stdout",
          "text": [
            "1\n",
            "1\n",
            "1\n",
            "(1, 1, 8628)\n",
            "[[[0 0 0 ... 0 0 0]]]\n",
            "1\n",
            "(1, 1, 8628)\n",
            "[[[3 3 3 ... 3 3 3]]]\n"
          ]
        }
      ]
    },
    {
      "cell_type": "code",
      "source": [
        "# tf.keras.utils.plot_model(CNN_Model, show_shapes=True)\n",
        "# tf.keras.utils.plot_model(LSTM_Model, show_shapes=True)"
      ],
      "metadata": {
        "id": "m9iU7F8VS4oz"
      },
      "execution_count": null,
      "outputs": []
    }
  ]
}